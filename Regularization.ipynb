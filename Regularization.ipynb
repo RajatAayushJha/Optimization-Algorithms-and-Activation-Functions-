{
 "cells": [
  {
   "cell_type": "code",
   "execution_count": 7,
   "metadata": {},
   "outputs": [],
   "source": [
    "import numpy as np\n",
    "import matplotlib.pyplot as plt\n",
    "import matplotlib.colors\n",
    "import pandas as pd\n",
    "from sklearn.metrics import accuracy_score,log_loss,mean_squared_error\n",
    "from sklearn.model_selection import train_test_split\n",
    "from tqdm import tqdm_notebook\n",
    "import seaborn as sn\n",
    "from numpy.linalg import norm\n",
    "from sklearn.datasets import load_iris\n",
    "from sklearn.preprocessing import OneHotEncoder"
   ]
  },
  {
   "cell_type": "code",
   "execution_count": 46,
   "metadata": {},
   "outputs": [],
   "source": [
    "my_cmap=matplotlib.colors.LinearSegmentedColormap.from_list(\"\",[\"red\",\"black\",\"orange\",\"black\",\"yellow\"])"
   ]
  },
  {
   "cell_type": "code",
   "execution_count": 13,
   "metadata": {},
   "outputs": [],
   "source": [
    "np.random.seed(0)"
   ]
  },
  {
   "cell_type": "code",
   "execution_count": 47,
   "metadata": {},
   "outputs": [
    {
     "data": {
      "text/plain": [
       "(150,)"
      ]
     },
     "execution_count": 47,
     "metadata": {},
     "output_type": "execute_result"
    }
   ],
   "source": [
    "iris=load_iris()\n",
    "data=iris.data[:,:2]\n",
    "target=iris.target\n",
    "#target=target.reshape(-1,1)\n",
    "target.shape\n"
   ]
  },
  {
   "cell_type": "code",
   "execution_count": 48,
   "metadata": {},
   "outputs": [
    {
     "data": {
      "image/png": "[encoded data removed]",
      "text/plain": [
       "<Figure size 432x288 with 1 Axes>"
      ]
     },
     "metadata": {
      "needs_background": "light"
     },
     "output_type": "display_data"
    }
   ],
   "source": [
    "plt.scatter(data[:,0],data[:,1],c=target,cmap=my_cmap)\n",
    "plt.show()"
   ]
  },
  {
   "cell_type": "code",
   "execution_count": 86,
   "metadata": {},
   "outputs": [
    {
     "name": "stdout",
     "output_type": "stream",
     "text": [
      "(112, 2) (38, 2)\n"
     ]
    },
    {
     "ename": "AttributeError",
     "evalue": "'numpy.ndarray' object has no attribute 'fillna'",
     "output_type": "error",
     "traceback": [
      "\u001b[1;31m---------------------------------------------------------------------------\u001b[0m",
      "\u001b[1;31mAttributeError\u001b[0m                            Traceback (most recent call last)",
      "\u001b[1;32m<ipython-input-86-5073134aa5df>\u001b[0m in \u001b[0;36m<module>\u001b[1;34m\u001b[0m\n\u001b[0;32m      1\u001b[0m \u001b[0mX_train\u001b[0m\u001b[1;33m,\u001b[0m\u001b[0mX_val\u001b[0m\u001b[1;33m,\u001b[0m\u001b[0mY_train\u001b[0m\u001b[1;33m,\u001b[0m\u001b[0mY_val\u001b[0m\u001b[1;33m=\u001b[0m\u001b[0mtrain_test_split\u001b[0m\u001b[1;33m(\u001b[0m\u001b[0mdata\u001b[0m\u001b[1;33m,\u001b[0m\u001b[0mtarget\u001b[0m\u001b[1;33m,\u001b[0m\u001b[0mstratify\u001b[0m\u001b[1;33m=\u001b[0m\u001b[0mtarget\u001b[0m\u001b[1;33m,\u001b[0m\u001b[0mrandom_state\u001b[0m\u001b[1;33m=\u001b[0m\u001b[1;36m0\u001b[0m\u001b[1;33m)\u001b[0m\u001b[1;33m\u001b[0m\u001b[1;33m\u001b[0m\u001b[0m\n\u001b[0;32m      2\u001b[0m \u001b[0mprint\u001b[0m\u001b[1;33m(\u001b[0m\u001b[0mX_train\u001b[0m\u001b[1;33m.\u001b[0m\u001b[0mshape\u001b[0m\u001b[1;33m,\u001b[0m\u001b[0mX_val\u001b[0m\u001b[1;33m.\u001b[0m\u001b[0mshape\u001b[0m\u001b[1;33m)\u001b[0m\u001b[1;33m\u001b[0m\u001b[1;33m\u001b[0m\u001b[0m\n\u001b[1;32m----> 3\u001b[1;33m \u001b[0mX_train\u001b[0m\u001b[1;33m.\u001b[0m\u001b[0mfillna\u001b[0m\u001b[1;33m(\u001b[0m\u001b[0mX_train\u001b[0m\u001b[1;33m.\u001b[0m\u001b[0mmean\u001b[0m\u001b[1;33m(\u001b[0m\u001b[1;33m)\u001b[0m\u001b[1;33m,\u001b[0m\u001b[0minplace\u001b[0m\u001b[1;33m=\u001b[0m\u001b[1;32mTrue\u001b[0m\u001b[1;33m)\u001b[0m\u001b[1;33m\u001b[0m\u001b[1;33m\u001b[0m\u001b[0m\n\u001b[0m",
      "\u001b[1;31mAttributeError\u001b[0m: 'numpy.ndarray' object has no attribute 'fillna'"
     ]
    }
   ],
   "source": [
    "X_train,X_val,Y_train,Y_val=train_test_split(data,target,stratify=target,random_state=0)\n",
    "print(X_train.shape,X_val.shape)\n"
   ]
  },
  {
   "cell_type": "code",
   "execution_count": 87,
   "metadata": {},
   "outputs": [
    {
     "name": "stderr",
     "output_type": "stream",
     "text": [
      "C:\\Users\\rjgen\\Anaconda3\\lib\\site-packages\\sklearn\\utils\\deprecation.py:58: DeprecationWarning: Class Imputer is deprecated; Imputer was deprecated in version 0.20 and will be removed in 0.22. Import impute.SimpleImputer from sklearn instead.\n",
      "  warnings.warn(msg, category=DeprecationWarning)\n"
     ]
    }
   ],
   "source": [
    "from sklearn.preprocessing import Imputer\n",
    "\n",
    "imputer = Imputer(missing_values = 'NaN', strategy = 'mean', axis = 0)\n",
    "\n",
    "imputer = imputer.fit(X_train)\n",
    "\n",
    "X_train = imputer.transform(X_train)"
   ]
  },
  {
   "cell_type": "code",
   "execution_count": 88,
   "metadata": {},
   "outputs": [
    {
     "name": "stderr",
     "output_type": "stream",
     "text": [
      "C:\\Users\\rjgen\\Anaconda3\\lib\\site-packages\\sklearn\\utils\\deprecation.py:58: DeprecationWarning: Class Imputer is deprecated; Imputer was deprecated in version 0.20 and will be removed in 0.22. Import impute.SimpleImputer from sklearn instead.\n",
      "  warnings.warn(msg, category=DeprecationWarning)\n"
     ]
    }
   ],
   "source": [
    "from sklearn.preprocessing import Imputer\n",
    "\n",
    "imputer = Imputer(missing_values = 'NaN', strategy = 'mean', axis = 0)\n",
    "\n",
    "imputer = imputer.fit(X_val)\n",
    "\n",
    "X_val = imputer.transform(X_val)"
   ]
  },
  {
   "cell_type": "code",
   "execution_count": 54,
   "metadata": {},
   "outputs": [
    {
     "name": "stderr",
     "output_type": "stream",
     "text": [
      "C:\\Users\\rjgen\\Anaconda3\\lib\\site-packages\\sklearn\\preprocessing\\_encoders.py:368: FutureWarning: The handling of integer data will change in version 0.22. Currently, the categories are determined based on the range [0, max(values)], while in the future they will be determined based on the unique values.\n",
      "If you want the future behaviour and silence this warning, you can specify \"categories='auto'\".\n",
      "In case you used a LabelEncoder before this OneHotEncoder to convert the categories to integers, then you can now use the OneHotEncoder directly.\n",
      "  warnings.warn(msg, FutureWarning)\n",
      "C:\\Users\\rjgen\\Anaconda3\\lib\\site-packages\\sklearn\\preprocessing\\_encoders.py:368: FutureWarning: The handling of integer data will change in version 0.22. Currently, the categories are determined based on the range [0, max(values)], while in the future they will be determined based on the unique values.\n",
      "If you want the future behaviour and silence this warning, you can specify \"categories='auto'\".\n",
      "In case you used a LabelEncoder before this OneHotEncoder to convert the categories to integers, then you can now use the OneHotEncoder directly.\n",
      "  warnings.warn(msg, FutureWarning)\n"
     ]
    },
    {
     "name": "stdout",
     "output_type": "stream",
     "text": [
      "(112, 3)\n"
     ]
    }
   ],
   "source": [
    "enc=OneHotEncoder()\n",
    "Y_enc_train=enc.fit_transform(np.expand_dims(Y_train,1)).toarray()\n",
    "Y_enc_val=enc.fit_transform(np.expand_dims(Y_val,1)).toarray()\n",
    "print(Y_enc_train.shape)"
   ]
  },
  {
   "cell_type": "code",
   "execution_count": 92,
   "metadata": {},
   "outputs": [],
   "source": [
    "class FNN:\n",
    "    def __init__(self,init_method=\"random\",activation=\"sigmoid\",leaky_slope=0.1):\n",
    "        \n",
    "        self.params={}\n",
    "        self.params_h=[]\n",
    "        self.num_layers=2\n",
    "        self.layer_size=[2,2,3]\n",
    "        self.activation_function=activation\n",
    "        self.leaky_slope=leaky_slope\n",
    "        \n",
    "        np.random.seed(0)\n",
    "        \n",
    "        if init_method==\"random\":\n",
    "            for i in range(1,self.num_layers+1):\n",
    "                self.params[\"W\"+str(i)]=np.random.randn(self.layer_size[i-1],self.layer_size[i])\n",
    "                self.params[\"B\"+str(i)]=np.random.randn(1,self.layer_size[i])\n",
    "        \n",
    "        elif init_method==\"he\":\n",
    "            for i in range(1,self.num_layers+1):\n",
    "                self.params[\"W\"+str(i)]=np.random.randn(self.layer_size[i-1],self.layer_size[i])*(np.sqrt(2)/np.sqrt(self.layer_size[i-1]))\n",
    "                self.params[\"B\"+str(i)]=np.random.randn(1,self.layer_size[i])\n",
    "\n",
    "        elif init_method==\"xavier\":\n",
    "            for i in range(1,self.num_layers+1):\n",
    "                self.params[\"W\"+str(i)]=np.random.randn(self.layer_size[i-1],self.layer_size[i])*(1.0/np.sqrt(self.layer_size[i-1]))\n",
    "                self.params[\"B\"+str(i)]=np.random.randn(1,self.layer_size[i])\n",
    "        \n",
    "        elif init_method == \"zeros\":\n",
    "            for i in range(1,self.num_layers+1):\n",
    "                self.params[\"W\"+str(i)]=np.zeros((self.layer_size[i-1],self.layer_size[i]))\n",
    "                self.params[\"B\"+str(i)]=np.zeros((1,self.layer_size[i]))\n",
    "        \n",
    "        self.gradients={}\n",
    "        self.update_params={}\n",
    "        self.prev_update_params={}\n",
    "        for i in range(1,self.num_layers+1):\n",
    "            self.update_params[\"v_w\"+str(i)]=0\n",
    "            self.update_params[\"v_b\"+str(i)]=0\n",
    "            self.update_params[\"m_b\"+str(i)]=0\n",
    "            self.update_params[\"m_w\"+str(i)]=0\n",
    "            self.prev_update_params[\"v_w\"+str(i)]=0\n",
    "            self.prev_update_params[\"v_b\"+str(i)]=0\n",
    "        \n",
    "    def forward_activation(self,X):\n",
    "        if(self.activation_function==\"sigmoid\"):\n",
    "            return 1.0/(1.0+np.exp(-X))\n",
    "        elif(self.activation_function==\"tanh\"):\n",
    "            return np.tanh(X)\n",
    "        elif(self.activation_function==\"relu\"):\n",
    "            return np.maximum(0,X)\n",
    "        elif(self.activation_function==\"leaky_relu\"):\n",
    "            return np.maximum(self.leaky_slope*X,X)\n",
    "    \n",
    "    def grad_activation(self,X):\n",
    "        if self.activation_function == \"sigmoid\":\n",
    "            return X*(1-X)\n",
    "        elif self.activation_function == \"tanh\":\n",
    "            return 1-np.square(X)\n",
    "        elif self.activation_function == \"relu\":\n",
    "            return 1*(X>0)\n",
    "        elif self.activation_function == \"leaky_relu\":\n",
    "            d=np.zeros_like(X)\n",
    "            d[X<=0]=self.leaky_slope\n",
    "            d[X>0]=1\n",
    "            return d\n",
    "    \n",
    "    def softmax(self,X):\n",
    "        exps=np.exp(X)\n",
    "        return exps/np.sum(exps,axis=1).reshape(-1,1)\n",
    "            \n",
    "    \n",
    "    def forward_pass(self,X,params):\n",
    "        if params is None:\n",
    "            params=self.params\n",
    "        self.A1=np.matmul(X,params[\"W1\"])+params[\"B1\"]\n",
    "        self.H1=self.forward_activation(self.A1)\n",
    "        self.A2=np.matmul(X,params[\"W2\"])+params[\"B2\"]\n",
    "        self.H2=self.forward_activation(self.A2)\n",
    "        return self.H2\n",
    "    \n",
    "    def grad(self,X,Y,params=None):\n",
    "        if params is None:\n",
    "            params=self.params\n",
    "        self.forward_pass(X,params)\n",
    "        m=X.shape[0]\n",
    "        self.gradients[\"dA2\"]=self.H2-Y\n",
    "        self.gradients[\"dW2\"]=np.matmul(self.H1.T,self.gradients[\"dA2\"])\n",
    "        self.gradients[\"dB2\"]=np.sum(self.gradients[\"dA2\"],axis=0).reshape(1,-1)\n",
    "        self.gradients[\"dH1\"]=np.matmul(self.gradients[\"dA2\"],self.params[\"W2\"].T)\n",
    "        self.gradients[\"dA1\"]=np.multiply(self.gradients[\"dH1\"],self.grad_activation(self.H1))\n",
    "        self.gradients[\"dW1\"]=np.matmul(X.T,self.gradients[\"dA1\"])\n",
    "        self.gradients[\"dB1\"]=np.sum(self.gradients[\"dA1\"],axis=0).reshape(1,-1)\n",
    "    \n",
    "    def fit(self,X,Y,epochs=1,eta=1,l2_norm=False,lambda_val=0.1,display_loss=True):\n",
    "        train_accuracies={}\n",
    "        val_accuracies={}\n",
    "        if display_loss:\n",
    "            loss=[]\n",
    "            weight_mag=[]\n",
    "        \n",
    "        for num_epoch in tqdm_notebook(range(epochs),total=epochs,unit=\"epoch\"):\n",
    "            m=X.shape[0]\n",
    "            \n",
    "            self.grad(X,Y)\n",
    "            for i in range(1,self.num_layers+1):\n",
    "                if norm :\n",
    "                    self.params[\"W\"+str(i)]-=(eta*lambda_val)/m * self.params[\"W\"+str(i)] + eta*(self.gradients[\"dW\"+str(i)]/m)\n",
    "                else:\n",
    "                    self.params[\"W\"+str(i)]-=eta*(self.gradients[\"dW\"+str(i)]/m)\n",
    "                self.params[\"B\"+str(i)]-=eta*self.gradients[\"dB\"+str(i)]\n",
    "            train_accuracy,val_accuracy=self.get_accuracy()\n",
    "            train_accuracies[num_epoch]=train_accuracy\n",
    "            val_accuracies[num_epoch]=val_accuracy\n",
    "            if display_loss:\n",
    "                Y_pred=self.predict(X)\n",
    "                loss.append(log_loss(np.argmax(Y,axis=1),Y_pred))\n",
    "                weight_mag.append((norm(self.params[\"W1\"])+norm(self.params[\"W2\"])+norm(self.params[\"B1\"])+norm(self.params[\"B2\"])))\n",
    "        plt.plot(np.array(list(train_accuracies)).astype(\"float\"),label=\"Train Accuracies\")\n",
    "        plt.plot(np.array(list(val_accuracies)).astype(\"float\"),label=\"Validation Accuracies\")\n",
    "        plt.plot(np.ones((epochs,1))*0.9)\n",
    "        plt.plot(np.ones((epochs,1))*0.33)\n",
    "        plt.xlabel(\"Epochs\")\n",
    "        plt.ylabel(\"Accuracy\")\n",
    "        plt.legend()\n",
    "        plt.show()\n",
    "        \n",
    "    def get_accuracy(self):\n",
    "        Y_pred_train=model.predict(X_train)\n",
    "        Y_pred_train=np.argmax(Y_pred_train,1)\n",
    "        Y_pred_val=model.predict(X_val)\n",
    "        Y_pred_val=np.argmax(Y_pred_val,1)\n",
    "        accuracy_train=accuracy_score(Y_pred_train,Y_train)\n",
    "        accuracy_val=accuracy_score(Y_pred_val,Y_val)\n",
    "        return accuracy_train,accuracy_val\n",
    "    def predict(self,X):\n",
    "        Y_pred=self.forward_pass(X,None)\n",
    "        return np.array(Y_pred).squeeze()\n"
   ]
  },
  {
   "cell_type": "code",
   "execution_count": 93,
   "metadata": {},
   "outputs": [],
   "source": [
    "def print_accuracy(scatter_plot=True,gradient_plot=False,plot_scale=0.1):\n",
    "    Y_pred_train=model.predict(X_train)\n",
    "    Y_pred_train=np.argmax(Y_pred_train,1)\n",
    "    Y_pred_val=model.predict(X_val)\n",
    "    Y_pred_val=np.argmax(Y_pred_val,1)\n",
    "    accuracy_train=accuracy_score(Y_pred_train,Y_train)\n",
    "    accuracy_val=accuracy_score(Y_pred_val,Y_val)\n",
    "    print(\"Training accuracy : \",round(accuracy_train,4))\n",
    "    print(\"Validation accuracy : \",round(accuracy_val,4))\n",
    "    \n",
    "    if scatter_plot :\n",
    "        plt.scatter(X_train[:,0],X_train[:,1],c=Y_pred_train,cmap=my_cmap,s=15*(np.abs(np.sign(Y_pred_train-Y_train))))\n",
    "        plt.show()\n",
    "    "
   ]
  },
  {
   "cell_type": "code",
   "execution_count": 94,
   "metadata": {},
   "outputs": [
    {
     "data": {
      "application/vnd.jupyter.widget-view+json": {
       "model_id": "2432f36268544873a428b81ce4fc651d",
       "version_major": 2,
       "version_minor": 0
      },
      "text/plain": [
       "HBox(children=(IntProgress(value=0), HTML(value='')))"
      ]
     },
     "metadata": {},
     "output_type": "display_data"
    },
    {
     "name": "stdout",
     "output_type": "stream",
     "text": [
      "\n"
     ]
    },
    {
     "data": {
      "image/png": "[encoded data removed]",
      "text/plain": [
       "<Figure size 432x288 with 1 Axes>"
      ]
     },
     "metadata": {
      "needs_background": "light"
     },
     "output_type": "display_data"
    },
    {
     "name": "stdout",
     "output_type": "stream",
     "text": [
      "Training accuracy :  0.3304\n",
      "Validation accuracy :  0.3421\n"
     ]
    },
    {
     "data": {
      "image/png": "[encoded data removed]",
      "text/plain": [
       "<Figure size 432x288 with 1 Axes>"
      ]
     },
     "metadata": {
      "needs_background": "light"
     },
     "output_type": "display_data"
    }
   ],
   "source": [
    "model=FNN(init_method=\"he\",activation=\"relu\")\n",
    "model.fit(X_train,Y_enc_train,epochs=100,eta=0.5,l2_norm=False,display_loss=True)\n",
    "print_accuracy()"
   ]
  },
  {
   "cell_type": "markdown",
   "metadata": {},
   "source": [
    "Adding noise to Data"
   ]
  },
  {
   "cell_type": "code",
   "execution_count": 97,
   "metadata": {},
   "outputs": [
    {
     "name": "stdout",
     "output_type": "stream",
     "text": [
      "0.01\n",
      "0.05\n",
      "0.1\n",
      "0.15\n",
      "0.18\n"
     ]
    }
   ],
   "source": [
    "for noise_fraction in [0.01,0.05,0.1,0.15,0.18]:\n",
    "    print(noise_fraction)\n",
    "    X_train_noisy=X_train*(1-noise_fraction*np.random.randn(X_train.shape[0],X_train.shape[1]))\n"
   ]
  },
  {
   "cell_type": "markdown",
   "metadata": {},
   "source": [
    "Early_stoppping"
   ]
  },
  {
   "cell_type": "code",
   "execution_count": null,
   "metadata": {},
   "outputs": [],
   "source": []
  },
  {
   "cell_type": "code",
   "execution_count": null,
   "metadata": {},
   "outputs": [],
   "source": []
  },
  {
   "cell_type": "code",
   "execution_count": null,
   "metadata": {},
   "outputs": [],
   "source": []
  },
  {
   "cell_type": "code",
   "execution_count": null,
   "metadata": {},
   "outputs": [],
   "source": []
  }
 ],
 "metadata": {
  "kernelspec": {
   "display_name": "Python 3",
   "language": "python",
   "name": "python3"
  },
  "language_info": {
   "codemirror_mode": {
    "name": "ipython",
    "version": 3
   },
   "file_extension": ".py",
   "mimetype": "text/x-python",
   "name": "python",
   "nbconvert_exporter": "python",
   "pygments_lexer": "ipython3",
   "version": "3.7.1"
  }
 },
 "nbformat": 4,
 "nbformat_minor": 2
}
